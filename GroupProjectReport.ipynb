{
 "cells": [
  {
   "cell_type": "markdown",
   "id": "34ddb1a2-7393-4cef-ab08-ebf40c535bda",
   "metadata": {},
   "source": [
    "# **Classify heart disease using patients' maximum heart rate during strenuous exercise, and ST depression induced by exercise**\n",
    "#### *An Phung, Bruce Zhang, Hellen Zhu, Wei Cao*"
   ]
  },
  {
   "cell_type": "markdown",
   "id": "1e0fe814-bb52-4347-92c4-6a16ae10aa5b",
   "metadata": {},
   "source": [
    "## **Introduction**"
   ]
  },
  {
   "cell_type": "markdown",
   "id": "4a810409-da6a-46d9-9341-349cf5465946",
   "metadata": {},
   "source": [
    "Heart disease (cardiovascular disease) encompasses various conditions affecting the heart and blood vessels, often leading to heart attacks due to arterial blockages (K.Srinivas et al., 2010). Early identification and treatment are crucial to prevent severe complications.\n",
    "\n",
    "The Heart Attack dataset used provides 13 variables that are possibly linked to heart disease, with whether or not they developed the disease. This study aims uses the K-nearest neighbors (KNN) algorithm to predict heart disease likelihood, focusing on maximum heart rate, and exercise-induced ST depression\n",
    "\n",
    "Low maximum heart rate and ST depression are early heart disease symptoms. Reduced maximum heart rate indicates lower cardiovascular fitness (Kostis et al., 1982), while ST depression on an electrocardiogram signals potential issues like myocardial ischemia (Kligfield et al., 1989).\n",
    "\n",
    "Thus, the question being addressed is: ***Can heart disease be accurately predicted based on a patient’s age, maximum heart rate during strenuous exercise, and ST depression induced by exercise?***"
   ]
  },
  {
   "cell_type": "markdown",
   "id": "379f7831-8e5f-4768-b812-513e87c302ab",
   "metadata": {},
   "source": [
    "## **Methods**"
   ]
  },
  {
   "cell_type": "markdown",
   "id": "86452e3c-2b23-4920-a9e4-688ce407cb21",
   "metadata": {
    "jp-MarkdownHeadingCollapsed": true
   },
   "source": [
    "### *Preprocessing & Preliminary exploratory data analysis*\n",
    "1. Import libaries and pulled the dataset from GitHub.\n",
    "2. Clean and tidy the data by assigning appropriate data types.\n",
    "3. Split the data into 75% training and 25% testing, ensuring a stratified split based on `target`.\n",
    "4. Summarize the training set to predict the efficiency of creating the classification model.\n",
    "5. Visualize the relationship between `thalach` and `oldpeak` to get a deeper understanding of data distribution."
   ]
  },
  {
   "cell_type": "markdown",
   "id": "a5581ef7-be8c-41a0-9e9d-b25d6b3cdd6b",
   "metadata": {},
   "source": [
    "## **Preprocessing & Preliminary exploratory data analysis**"
   ]
  },
  {
   "cell_type": "markdown",
   "id": "9772fc3c-edd3-4e40-b70c-9551e95bc268",
   "metadata": {},
   "source": [
    "### *Importing libraries & dataset*"
   ]
  },
  {
   "cell_type": "markdown",
   "id": "37f28c74-e87f-470d-8f4a-99892e34db14",
   "metadata": {},
   "source": [
    "### *Cleaning the dataset*"
   ]
  },
  {
   "cell_type": "markdown",
   "id": "2cd2046d-0915-44e0-ab76-7954ebce015a",
   "metadata": {},
   "source": [
    "### *Splitting the dataset*"
   ]
  },
  {
   "cell_type": "markdown",
   "id": "a2eadc80-bff3-4daf-af1c-3bbd682c091f",
   "metadata": {},
   "source": [
    "### *Summarizing data*"
   ]
  },
  {
   "cell_type": "markdown",
   "id": "973b118a-8fa1-4ba4-8974-1c416dd5df47",
   "metadata": {},
   "source": [
    "### *Visualizing the realtionship between Predictors and Class*"
   ]
  },
  {
   "cell_type": "markdown",
   "id": "cab61f61-08cb-4ed5-b71a-f3a2c19c9c96",
   "metadata": {},
   "source": [
    "## **Building model**"
   ]
  },
  {
   "cell_type": "markdown",
   "id": "6f62ee1f-21e7-4d6b-9d19-04239294b546",
   "metadata": {},
   "source": [
    "### *Finding the best $k$ value*"
   ]
  },
  {
   "cell_type": "markdown",
   "id": "4e6d53ad-c3c9-409b-894b-69cf3faaa907",
   "metadata": {},
   "source": [
    "**Creating model**"
   ]
  },
  {
   "cell_type": "markdown",
   "id": "af923305-5c68-4a06-8403-76a0a174434a",
   "metadata": {},
   "source": [
    "**Visualizing accuracy**"
   ]
  },
  {
   "cell_type": "markdown",
   "id": "02946553-eb39-4e1d-8aaa-48569535fb57",
   "metadata": {},
   "source": [
    "**Comparing to a majority classifier**"
   ]
  },
  {
   "cell_type": "markdown",
   "id": "fbaa758c-b7aa-47d5-8ba3-301e11781228",
   "metadata": {},
   "source": [
    "### *Building the final model*"
   ]
  },
  {
   "cell_type": "markdown",
   "id": "fdacc409-6b94-467c-9814-c12c5e9e24d5",
   "metadata": {},
   "source": [
    "## **Testing classifier model**"
   ]
  },
  {
   "cell_type": "markdown",
   "id": "be8f2268-0cf0-40b6-a2f9-322d91147438",
   "metadata": {},
   "source": [
    "### *Checking for over/underfitting*"
   ]
  },
  {
   "cell_type": "markdown",
   "id": "4a2df9df-9df6-4263-b2db-d489c924bdbb",
   "metadata": {},
   "source": [
    "### *Accuracy and confusion matrix*"
   ]
  },
  {
   "cell_type": "markdown",
   "id": "1f8df9d9-74b1-4b53-bc87-a7d80261568b",
   "metadata": {},
   "source": [
    "## **Discussion**"
   ]
  },
  {
   "cell_type": "code",
   "execution_count": null,
   "id": "e26f9d4e-c1d8-4a8b-aac5-4f2d1a83f615",
   "metadata": {},
   "outputs": [],
   "source": []
  },
  {
   "cell_type": "markdown",
   "id": "89c96494-7694-4c07-b7c7-ff13e64b0a7e",
   "metadata": {},
   "source": [
    "## **Reference**"
   ]
  },
  {
   "cell_type": "markdown",
   "id": "2da03e12-5abb-4d3b-8160-675c356da36d",
   "metadata": {},
   "source": [
    "1. *Heart attack*. (2021, September 26). Kaggle. https://www.kaggle.com/datasets/pritsheta/heart-attack\n",
    "2. Kligfield, P., Ameisen, O., & Okin, P. M. (1989). Heart rate adjustment of ST segment depression for improved detection of coronary artery disease. Circulation, 79(2), 245–255. https://doi.org/10.1161/01.cir.79.2.245\n",
    "3. Kostis, J. B., Moreyra, A. E., Amendo, M. T., Di Pietro, J., Cosgrove, N. M., & Kuo, P. T. (1982). The effect of age on heart rate in subjects free of heart disease. Studies by ambulatory electrocardiography and maximal exercise stress test. Circulation, 65(1), 141–145. https://doi.org/10.1161/01.cir.65.1.141\n",
    "4. Analysis of coronary heart disease and prediction of heart attack in coal mining regions using data mining techniques. (2010c, August 1). IEEE Conference Publication | IEEE Xplore. https://ieeexplore.ieee.org/abstract/document/5593711"
   ]
  },
  {
   "cell_type": "code",
   "execution_count": null,
   "id": "ad5eaddc-567c-4bbe-8d1b-a9e305b016d2",
   "metadata": {},
   "outputs": [],
   "source": []
  }
 ],
 "metadata": {
  "kernelspec": {
   "display_name": "R",
   "language": "R",
   "name": "ir"
  },
  "language_info": {
   "codemirror_mode": "r",
   "file_extension": ".r",
   "mimetype": "text/x-r-source",
   "name": "R",
   "pygments_lexer": "r",
   "version": "4.3.1"
  }
 },
 "nbformat": 4,
 "nbformat_minor": 5
}
