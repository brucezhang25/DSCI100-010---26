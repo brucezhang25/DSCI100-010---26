{
 "cells": [
  {
   "cell_type": "markdown",
   "id": "c9557c31-b870-410a-bbbf-aa5d4b8afac9",
   "metadata": {},
   "source": [
    "# How is heart disease linked to the patient's age, maximum heart rate during strenuous exercise, and ST depression induced by exercise?"
   ]
  },
  {
   "cell_type": "markdown",
   "id": "def2c0fe-1ecb-45d6-bac8-b2c44c37992d",
   "metadata": {},
   "source": [
    "## Introduction"
   ]
  },
  {
   "cell_type": "markdown",
   "id": "82f125a1-abac-4f92-b5c8-3a7438ece98d",
   "metadata": {},
   "source": [
    "Heart attacks often roots from a cardiovascular disease and is induced by a blockage in the arteries, restricting blood flow to heart muscles. Heart attacks may be fatal if the condition is not immediately treated. Thus, it is important to identify a heart condition early on and prevent sudden and unexpected heart attacks. \n",
    "\n",
    "This study aims to predict the likelihood of a patient developing heart disease by conducting classification with K algorithm. The Heart Attack dataset used compares 13 variables that are possibly linked to heart disease, with whether or not they developed the disease. To classify whether the patient has a heart disease, the study uses 3 variables: age, maximum heart rate, and ST depression induced by exercise. Based on previous studies, people ages 65 and older are much more likely to suffer a heart attack. In addition, a low maximum heart (exercise intolerance) and ST depression (when ST segment on ECG is abnormally low) are often the first symptoms of heart disease. \n",
    "\n",
    "Thus, the question being addressed is: can heart disease be accurately predicted based on a patient’s age, maximum heart rate during strenuous exercise, and ST depression induced by exercise?\n"
   ]
  },
  {
   "cell_type": "code",
   "execution_count": null,
   "id": "968d1a9b-8150-486f-ac00-6f3866253c25",
   "metadata": {},
   "outputs": [],
   "source": []
  }
 ],
 "metadata": {
  "kernelspec": {
   "display_name": "R",
   "language": "R",
   "name": "ir"
  },
  "language_info": {
   "codemirror_mode": "r",
   "file_extension": ".r",
   "mimetype": "text/x-r-source",
   "name": "R",
   "pygments_lexer": "r",
   "version": "4.3.1"
  }
 },
 "nbformat": 4,
 "nbformat_minor": 5
}
