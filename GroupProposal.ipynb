{
 "cells": [
  {
   "cell_type": "markdown",
   "id": "c9557c31-b870-410a-bbbf-aa5d4b8afac9",
   "metadata": {},
   "source": [
    "# How is heart disease linked to the patient's age, maxiumum heart rate during strenuous exercise, and ST depression induced by exercise?"
   ]
  },
  {
   "cell_type": "markdown",
   "id": "def2c0fe-1ecb-45d6-bac8-b2c44c37992d",
   "metadata": {},
   "source": [
    "## Introduction"
   ]
  },
  {
   "cell_type": "code",
   "execution_count": null,
   "id": "e4b8ff1e-f406-4747-8e0f-bfeada02a985",
   "metadata": {},
   "outputs": [],
   "source": []
  }
 ],
 "metadata": {
  "kernelspec": {
   "display_name": "R",
   "language": "R",
   "name": "ir"
  },
  "language_info": {
   "codemirror_mode": "r",
   "file_extension": ".r",
   "mimetype": "text/x-r-source",
   "name": "R",
   "pygments_lexer": "r",
   "version": "4.3.1"
  }
 },
 "nbformat": 4,
 "nbformat_minor": 5
}
